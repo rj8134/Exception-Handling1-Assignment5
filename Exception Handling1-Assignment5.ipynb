{
 "cells": [
  {
   "cell_type": "markdown",
   "id": "7d4074ac-03ac-4dba-9f20-2ac3584e2ac4",
   "metadata": {},
   "source": [
    "# Q1.What is an Exception in pthon? Write the difference between Exceptions and Syntax errors."
   ]
  },
  {
   "cell_type": "markdown",
   "id": "8b95c9fe-9494-4a7c-8924-e6e175024a99",
   "metadata": {},
   "source": [
    "An Exception is an error that happens during the execution of a program. Whenever there is an error, Python generates an exception that could be handled. It basically prevents the program from getting crashed.\n",
    "\n",
    "If you have some suspicious code that may raise an exception, you can defend your program by placing the suspicious code in a try: block. After the try: block, include an except: statement, followed by a block of code which handles the problem as elegantly as possible.\n",
    "\n",
    "Exceptions:\n",
    "\n",
    "if a statement or expression is syntactically correct, it may cause an error when an attempt is made to execute it.\n",
    "\n",
    "Errors detected during code execution are called exceptions and are not unconditionally fatal."
   ]
  },
  {
   "cell_type": "markdown",
   "id": "28649fdc-3f97-41d5-b301-55a6b7c553ff",
   "metadata": {},
   "source": [
    "Errors or mistakes in a program are often referred to as bugs. They are almost always the fault of the programmer. The process of finding and eliminating errors is called debugging. Errors can be classified into three major groups:\n",
    "\n",
    "Syntax errors\n",
    "Runtime errors\n",
    "Logical errors\n",
    "\n"
   ]
  },
  {
   "cell_type": "markdown",
   "id": "d51760e4-17f2-48bb-97ee-ebe5494019ab",
   "metadata": {},
   "source": [
    "Errors are the problems in a program due to which the program will stop the execution. On the other hand, exceptions are raised when some internal events occur which changes the normal flow of the program. \n",
    "\n",
    "\n",
    " "
   ]
  },
  {
   "cell_type": "markdown",
   "id": "15eb5dcb-085d-48b1-8c8f-dd11703f7340",
   "metadata": {},
   "source": [
    "Syntax Error: When the proper syntax of the language is not followed then a syntax error is thrown."
   ]
  },
  {
   "cell_type": "code",
   "execution_count": 1,
   "id": "e98e3512-d047-4a81-ab0e-ea140a9cb2ab",
   "metadata": {},
   "outputs": [
    {
     "ename": "SyntaxError",
     "evalue": "expected ':' (1377038624.py, line 7)",
     "output_type": "error",
     "traceback": [
      "\u001b[0;36m  Cell \u001b[0;32mIn[1], line 7\u001b[0;36m\u001b[0m\n\u001b[0;31m    if(amount>2999)\u001b[0m\n\u001b[0m                   ^\u001b[0m\n\u001b[0;31mSyntaxError\u001b[0m\u001b[0;31m:\u001b[0m expected ':'\n"
     ]
    }
   ],
   "source": [
    "# Example:\n",
    "# initialize the amount variable\n",
    "amount = 10000\n",
    "  \n",
    "# check that You are eligible to\n",
    "#  purchase Dsa Self Paced or not\n",
    "if(amount>2999)\n",
    "    print(\"You are eligible to purchase Dsa Self Paced\")\n",
    "     "
   ]
  },
  {
   "cell_type": "markdown",
   "id": "02bebbc7-c414-4c5a-ae00-432cddaea3a2",
   "metadata": {},
   "source": [
    "Logical errors (Exceptions):\n",
    "When in the runtime an error that occurs after passing the syntax test is called exception or logical type. For example, when we divide any number by zero then the ZeroDivisionError exception is raised, or when we import a module that does not exist then ImportError is raised."
   ]
  },
  {
   "cell_type": "code",
   "execution_count": 2,
   "id": "5c601793-0655-40fb-ba4d-9f86dad42242",
   "metadata": {},
   "outputs": [
    {
     "ename": "ZeroDivisionError",
     "evalue": "division by zero",
     "output_type": "error",
     "traceback": [
      "\u001b[0;31m---------------------------------------------------------------------------\u001b[0m",
      "\u001b[0;31mZeroDivisionError\u001b[0m                         Traceback (most recent call last)",
      "Cell \u001b[0;32mIn[2], line 5\u001b[0m\n\u001b[1;32m      2\u001b[0m marks \u001b[38;5;241m=\u001b[39m \u001b[38;5;241m10000\u001b[39m\n\u001b[1;32m      4\u001b[0m \u001b[38;5;66;03m# perform division with 0\u001b[39;00m\n\u001b[0;32m----> 5\u001b[0m a \u001b[38;5;241m=\u001b[39m \u001b[43mmarks\u001b[49m\u001b[43m \u001b[49m\u001b[38;5;241;43m/\u001b[39;49m\u001b[43m \u001b[49m\u001b[38;5;241;43m0\u001b[39;49m\n\u001b[1;32m      6\u001b[0m \u001b[38;5;28mprint\u001b[39m(a)\n",
      "\u001b[0;31mZeroDivisionError\u001b[0m: division by zero"
     ]
    }
   ],
   "source": [
    "# initialize the amount variable\n",
    "marks = 10000\n",
    "  \n",
    "# perform division with 0\n",
    "a = marks / 0\n",
    "print(a)"
   ]
  },
  {
   "cell_type": "markdown",
   "id": "22313e2b-2051-47f9-8339-54834c2fd4df",
   "metadata": {},
   "source": [
    "# Q2. What happens when an exception is not handled? Explain with an example."
   ]
  },
  {
   "cell_type": "markdown",
   "id": "2e05692b-7704-4a32-86af-f5c4c46bd9b6",
   "metadata": {},
   "source": [
    "When an Exception is not handled by Except block then Custom Ecxception Handling is required.\n",
    "To create our custom exception in Python, we can define a new class that inherits from the built-in Exception class. This allows us to tailor the exception to our specific needs."
   ]
  },
  {
   "cell_type": "code",
   "execution_count": 4,
   "id": "9351e86b-6f89-445a-96f6-901b78e6efe9",
   "metadata": {},
   "outputs": [
    {
     "name": "stdin",
     "output_type": "stream",
     "text": [
      "Enter the age: -97\n"
     ]
    },
    {
     "name": "stdout",
     "output_type": "stream",
     "text": [
      "-97\n"
     ]
    }
   ],
   "source": [
    "# Except block is not able to handle the Exception as negative age.\n",
    "try:\n",
    "    age=int(input(\"Enter the age:\"))\n",
    "    print(age)\n",
    "except Exception as e:\n",
    "            print(e)"
   ]
  },
  {
   "cell_type": "code",
   "execution_count": 5,
   "id": "98d0279e-09dc-4160-b4db-140aecdde72d",
   "metadata": {},
   "outputs": [],
   "source": [
    "class validate_age(Exception):\n",
    "    def __init__(self,msg):\n",
    "        self.msg=msg"
   ]
  },
  {
   "cell_type": "code",
   "execution_count": 6,
   "id": "ec73baa6-c5fb-4719-b89e-70790754048a",
   "metadata": {},
   "outputs": [],
   "source": [
    "def validateage(age):\n",
    "    if age<0:\n",
    "        raise validate_age(\"The age should be greater than zero\")\n",
    "    elif age>200:\n",
    "        raise validate_age(\"Age is too High\")\n",
    "    else:\n",
    "        print(\"Age is valid\")\n",
    "    "
   ]
  },
  {
   "cell_type": "code",
   "execution_count": 7,
   "id": "0c58bed8-dd52-46aa-8c84-558da672118f",
   "metadata": {},
   "outputs": [
    {
     "name": "stdin",
     "output_type": "stream",
     "text": [
      "Enter your age :  -43\n"
     ]
    },
    {
     "name": "stdout",
     "output_type": "stream",
     "text": [
      "The age should be greater than zero\n",
      "Custom Exception Handling is done\n"
     ]
    }
   ],
   "source": [
    "try:\n",
    "    age=int(input(\"Enter your age : \"))\n",
    "    validateage(age)\n",
    "except validate_age as e:\n",
    "    print(e)\n",
    "else:\n",
    "    print(\"The age is shown\",age)\n",
    "finally:\n",
    "    print(\"Custom Exception Handling is done\")"
   ]
  },
  {
   "cell_type": "markdown",
   "id": "6f684c5d-130f-4948-95b8-6a2b5b5d5020",
   "metadata": {},
   "source": [
    "# Q3. Which Python statements are used to catch and handle exceptions? Explain with an example."
   ]
  },
  {
   "cell_type": "markdown",
   "id": "dc795d78-785b-4fc6-9f0c-d21f29b23e47",
   "metadata": {},
   "source": [
    "The try and except block in Python is used to catch and handle exceptions. Python executes code following the try statement as a “normal” part of the program. The code that follows the except statement is the program’s response to any exceptions in the preceding try clause.\n",
    "\n",
    "\n",
    "Try and except statements are used to catch and handle exceptions in Python. Statements that can raise exceptions are kept inside the try clause and the statements that handle the exception are written inside except clause."
   ]
  },
  {
   "cell_type": "code",
   "execution_count": 9,
   "id": "af5ae00c-6ebd-4c16-a010-ef17135bea4b",
   "metadata": {},
   "outputs": [
    {
     "name": "stdout",
     "output_type": "stream",
     "text": [
      "If there is an error then showm me as division by zero\n"
     ]
    }
   ],
   "source": [
    "try:\n",
    "    age=100\n",
    "    age/0\n",
    "except Exception as e:\n",
    "            print(\"If there is an error then showm me as\",e)"
   ]
  },
  {
   "cell_type": "code",
   "execution_count": 11,
   "id": "70aebf1f-eddf-4c47-9966-fda35f8b2ae9",
   "metadata": {},
   "outputs": [
    {
     "name": "stdout",
     "output_type": "stream",
     "text": [
      "If there is an error then showm me as division by zero\n"
     ]
    }
   ],
   "source": [
    "try:\n",
    "    age=100\n",
    "    age/0\n",
    "except ZeroDivisionError as e:\n",
    "            print(\"If there is an error then showm me as\",e)"
   ]
  },
  {
   "cell_type": "code",
   "execution_count": null,
   "id": "941f066a-4aa9-4732-90b5-dabb91b5c9f0",
   "metadata": {},
   "outputs": [],
   "source": [
    "# Q4. Q4. Explain with an example:\n",
    "# try and else\n",
    "# finally\n",
    "# raise"
   ]
  },
  {
   "cell_type": "code",
   "execution_count": null,
   "id": "e682a3b7-6030-4d66-8b9f-4e17e04d022c",
   "metadata": {},
   "outputs": [],
   "source": [
    "The try block lets you test a block of code for errors.\n",
    "\n",
    "The except block lets you handle the error.\n",
    "\n",
    "The else block lets you execute code when there is no error.You can use the else keyword to define a block of code to be executed if no errors were raised.\n",
    "\n",
    "The finally block lets you execute code, regardless of the result of the try- and except blocks.\n"
   ]
  },
  {
   "cell_type": "code",
   "execution_count": 12,
   "id": "d32e7110-1e39-46a2-bed4-0c1e0151c7aa",
   "metadata": {},
   "outputs": [
    {
     "name": "stdout",
     "output_type": "stream",
     "text": [
      "If there is an error then showm me as division by zero\n"
     ]
    }
   ],
   "source": [
    "try:\n",
    "    age=100\n",
    "    age/0\n",
    "except Exception as e:\n",
    "    print(\"If there is an error then showm me as\",e)\n",
    "else:\n",
    "    print(\"Hi, I am learning Data Science from pwskills\")"
   ]
  },
  {
   "cell_type": "code",
   "execution_count": 13,
   "id": "8cb890b5-4bec-4c2b-b808-2988bb32c6c7",
   "metadata": {},
   "outputs": [
    {
     "name": "stdout",
     "output_type": "stream",
     "text": [
      "The age is: 100\n",
      "Hi, I am learning Data Science from pwskills\n"
     ]
    }
   ],
   "source": [
    "try:\n",
    "    age=100\n",
    "    print(\"The age is:\", age)\n",
    "except Exception as e:\n",
    "    print(\"If there is an error then showm me as\",e)\n",
    "else:\n",
    "    print(\"Hi, I am learning Data Science from pwskills\")"
   ]
  },
  {
   "cell_type": "code",
   "execution_count": 14,
   "id": "1fcf7510-209c-4d40-addf-f35c0d92e35a",
   "metadata": {},
   "outputs": [
    {
     "name": "stdout",
     "output_type": "stream",
     "text": [
      "If there is an error then showm me as division by zero\n",
      "This block will be executed always regardless of the result\n"
     ]
    }
   ],
   "source": [
    "try:\n",
    "    age=100\n",
    "    age/0\n",
    "except Exception as e:\n",
    "    print(\"If there is an error then showm me as\",e)\n",
    "else:\n",
    "    print(\"Hi, I am learning Data Science from pwskills\")\n",
    "finally:\n",
    "    print(\"This block will be executed always regardless of the result\")"
   ]
  },
  {
   "cell_type": "code",
   "execution_count": 15,
   "id": "acc237a8-cad3-4f6e-a42a-aedf681fbbf6",
   "metadata": {},
   "outputs": [
    {
     "name": "stdout",
     "output_type": "stream",
     "text": [
      "The age is: 100\n",
      "Hi, I am learning Data Science from pwskills\n",
      "This block will be executed always regardless of the result\n"
     ]
    }
   ],
   "source": [
    "try:\n",
    "    age=100\n",
    "    print(\"The age is:\", age)\n",
    "except Exception as e:\n",
    "    print(\"If there is an error then showm me as\",e)\n",
    "else:\n",
    "    print(\"Hi, I am learning Data Science from pwskills\")\n",
    "finally:\n",
    "    print(\"This block will be executed always regardless of the result\")"
   ]
  },
  {
   "cell_type": "code",
   "execution_count": null,
   "id": "37e69169-03aa-4f0b-8212-e22e5af2379c",
   "metadata": {},
   "outputs": [],
   "source": [
    "The raise keyword is used to raise an exception.\n",
    "\n",
    "You can define what kind of error to raise, and the text to print to the user.\n",
    "\n",
    "The raise is a predefined reserved word of Python.\n",
    "The exception handling technique in Python can be done through the keywords- try, except, finally, and raise. \n",
    "The raise statement manually creates an exception. \n",
    "We may use this to explicitly raise or throw an exception.\n",
    "The raise keyword is followed by determining the type of exception that you need to raise, which is indicated by either an object of the exception class or the name of the exception class. \n",
    "As we know, the try catch block is for handling exceptions, the raise keyword on the opposite is to generate an exception."
   ]
  },
  {
   "cell_type": "code",
   "execution_count": null,
   "id": "f4943dd9-1a5a-4098-bbe6-772341e66575",
   "metadata": {},
   "outputs": [],
   "source": [
    "#syntax\n",
    "if test_condition:\n",
    "    raise exception_type(argument, traceback)"
   ]
  },
  {
   "cell_type": "code",
   "execution_count": 16,
   "id": "2777e3cf-b313-41e6-aac3-f8fce2ba000d",
   "metadata": {},
   "outputs": [
    {
     "ename": "Exception",
     "evalue": "Sorry, no numbers below zero",
     "output_type": "error",
     "traceback": [
      "\u001b[0;31m---------------------------------------------------------------------------\u001b[0m",
      "\u001b[0;31mException\u001b[0m                                 Traceback (most recent call last)",
      "Cell \u001b[0;32mIn[16], line 4\u001b[0m\n\u001b[1;32m      1\u001b[0m x \u001b[38;5;241m=\u001b[39m \u001b[38;5;241m-\u001b[39m\u001b[38;5;241m1\u001b[39m\n\u001b[1;32m      3\u001b[0m \u001b[38;5;28;01mif\u001b[39;00m x \u001b[38;5;241m<\u001b[39m \u001b[38;5;241m0\u001b[39m:\n\u001b[0;32m----> 4\u001b[0m   \u001b[38;5;28;01mraise\u001b[39;00m \u001b[38;5;167;01mException\u001b[39;00m(\u001b[38;5;124m\"\u001b[39m\u001b[38;5;124mSorry, no numbers below zero\u001b[39m\u001b[38;5;124m\"\u001b[39m)\n",
      "\u001b[0;31mException\u001b[0m: Sorry, no numbers below zero"
     ]
    }
   ],
   "source": [
    "x = -1\n",
    "\n",
    "if x < 0:\n",
    "  raise Exception(\"Sorry, no numbers below zero\")"
   ]
  },
  {
   "cell_type": "code",
   "execution_count": 17,
   "id": "72932c39-320e-4025-9af1-debbd54b53c7",
   "metadata": {},
   "outputs": [
    {
     "name": "stdin",
     "output_type": "stream",
     "text": [
      "Enter a city name:  Delhi\n"
     ]
    },
    {
     "ename": "Exception",
     "evalue": "This word is not allowed",
     "output_type": "error",
     "traceback": [
      "\u001b[0;31m---------------------------------------------------------------------------\u001b[0m",
      "\u001b[0;31mException\u001b[0m                                 Traceback (most recent call last)",
      "Cell \u001b[0;32mIn[17], line 4\u001b[0m\n\u001b[1;32m      1\u001b[0m string \u001b[38;5;241m=\u001b[39m \u001b[38;5;28minput\u001b[39m(\u001b[38;5;124m\"\u001b[39m\u001b[38;5;124mEnter a city name: \u001b[39m\u001b[38;5;124m\"\u001b[39m)\n\u001b[1;32m      3\u001b[0m \u001b[38;5;28;01mif\u001b[39;00m string\u001b[38;5;241m==\u001b[39m\u001b[38;5;124m\"\u001b[39m\u001b[38;5;124mDelhi\u001b[39m\u001b[38;5;124m\"\u001b[39m \u001b[38;5;129;01mor\u001b[39;00m string\u001b[38;5;241m==\u001b[39m\u001b[38;5;124m\"\u001b[39m\u001b[38;5;124mGoa\u001b[39m\u001b[38;5;124m\"\u001b[39m \u001b[38;5;129;01mor\u001b[39;00m string\u001b[38;5;241m==\u001b[39m\u001b[38;5;124m\"\u001b[39m\u001b[38;5;124mMumbai\u001b[39m\u001b[38;5;124m\"\u001b[39m:\n\u001b[0;32m----> 4\u001b[0m     \u001b[38;5;28;01mraise\u001b[39;00m \u001b[38;5;167;01mException\u001b[39;00m(\u001b[38;5;124m\"\u001b[39m\u001b[38;5;124mThis word is not allowed\u001b[39m\u001b[38;5;124m\"\u001b[39m)\n",
      "\u001b[0;31mException\u001b[0m: This word is not allowed"
     ]
    }
   ],
   "source": [
    "string = input(\"Enter a city name: \")\n",
    "\n",
    "if string==\"Delhi\" or string==\"Goa\" or string==\"Mumbai\":\n",
    "    raise Exception(\"This word is not allowed\")"
   ]
  },
  {
   "cell_type": "code",
   "execution_count": 18,
   "id": "0feeb07b-ead4-4b8a-8a62-22f681ef4760",
   "metadata": {},
   "outputs": [
    {
     "name": "stdin",
     "output_type": "stream",
     "text": [
      "Enter a city name:  Pune\n"
     ]
    }
   ],
   "source": [
    "string = input(\"Enter a city name: \")\n",
    "\n",
    "if string==\"Delhi\" or string==\"Goa\" or string==\"Mumbai\":\n",
    "    raise Exception(\"This word is not allowed\")"
   ]
  },
  {
   "cell_type": "markdown",
   "id": "74dd6223-5d2c-430b-8161-6b928138fc62",
   "metadata": {},
   "source": [
    "# Q5. What are Custom Exceptions in python? Why do we need Custom Exceptions? Explain with an example."
   ]
  },
  {
   "cell_type": "markdown",
   "id": "1742a289-4dc9-4940-bfb5-21bdca92354f",
   "metadata": {},
   "source": [
    "A Python custom exception is a user-defined exception that is created by the programmer to handle specific error scenarios in a program.\n",
    "\n",
    "Python allows you to create your custom exception by subclassing the built-in Exception class or any of its subclasses.\n",
    "\n",
    "When a custom exception is raised, it behaves like any other exception in Python, triggering an error message and terminating the program if it is not handled properly.\n",
    "\n"
   ]
  },
  {
   "cell_type": "code",
   "execution_count": null,
   "id": "c57e06ad-b0de-467c-89c2-010f81b13581",
   "metadata": {},
   "outputs": [],
   "source": [
    "Python Custom exception is a valuable tool for handling errors in a way that aligns with your application’s specific requirements.\n",
    "We need custom exception because of following reasons:\n",
    "Readability and Maintainability: A Custom exception with descriptive names make your code more readable and easier to understand, promoting better collaboration and troubleshooting.\n",
    "Tailored Error Handling: Custom exceptions allow you to handle errors in a way that suits your application’s logic and requirements, providing more precise error management.\n",
    "Enforced Design Patterns: Custom exceptions encourage consistent error-handling practices and can be shared across modules or projects, promoting code reusability.\n",
    "Enhanced Code Documentation: Clear exception names act as self-documenting elements, providing insights into potential error scenarios and facilitating code understanding.\n",
    "Precise Error Reporting: Custom exceptions enable you to generate detailed error messages, providing valuable information to users or administrators and aiding in bug fixing"
   ]
  },
  {
   "cell_type": "code",
   "execution_count": null,
   "id": "eb4d951f-edc2-47e2-8512-3d2817e790cf",
   "metadata": {},
   "outputs": [],
   "source": [
    "Example is shown in Q6."
   ]
  },
  {
   "cell_type": "markdown",
   "id": "a4259c3f-d410-46eb-b866-186759c3b9ec",
   "metadata": {},
   "source": [
    "# Q6. Create a custom exception class. Use this class to handle an exception."
   ]
  },
  {
   "cell_type": "code",
   "execution_count": 19,
   "id": "40c5b01b-0087-4d13-b024-348554403c96",
   "metadata": {},
   "outputs": [],
   "source": [
    "class validate_age(Exception):\n",
    "    def __init__(self,msg):\n",
    "        self.msg=msg"
   ]
  },
  {
   "cell_type": "code",
   "execution_count": 20,
   "id": "7cbbcce5-d676-4a0e-9c55-c4c2e788648f",
   "metadata": {},
   "outputs": [],
   "source": [
    "def validateage(age):\n",
    "    if age<0:\n",
    "        raise validate_age(\"The age should be greater than zero\")\n",
    "    elif age>200:\n",
    "        raise validate_age(\"Age is too High\")\n",
    "    else:\n",
    "        print(\"Age is valid\")"
   ]
  },
  {
   "cell_type": "code",
   "execution_count": 21,
   "id": "f7a024e6-9fba-41a9-aa59-d1abcee4c614",
   "metadata": {},
   "outputs": [
    {
     "name": "stdin",
     "output_type": "stream",
     "text": [
      "Enter your age :  45\n"
     ]
    },
    {
     "name": "stdout",
     "output_type": "stream",
     "text": [
      "Age is valid\n",
      "The age is shown 45\n",
      "Custom Exception Handling is done\n"
     ]
    }
   ],
   "source": [
    "try:\n",
    "    age=int(input(\"Enter your age : \"))\n",
    "    validateage(age)\n",
    "except validate_age as e:\n",
    "    print(e)\n",
    "else:\n",
    "    print(\"The age is shown\",age)\n",
    "finally:\n",
    "    print(\"Custom Exception Handling is done\")"
   ]
  }
 ],
 "metadata": {
  "kernelspec": {
   "display_name": "Python 3 (ipykernel)",
   "language": "python",
   "name": "python3"
  },
  "language_info": {
   "codemirror_mode": {
    "name": "ipython",
    "version": 3
   },
   "file_extension": ".py",
   "mimetype": "text/x-python",
   "name": "python",
   "nbconvert_exporter": "python",
   "pygments_lexer": "ipython3",
   "version": "3.10.8"
  }
 },
 "nbformat": 4,
 "nbformat_minor": 5
}
